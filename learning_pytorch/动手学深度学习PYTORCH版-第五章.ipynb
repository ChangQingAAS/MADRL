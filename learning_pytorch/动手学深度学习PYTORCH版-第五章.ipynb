{
 "cells": [
  {
   "cell_type": "code",
   "execution_count": 25,
   "source": [
    "%matplotlib inline\r\n",
    "import random\r\n",
    "import time \r\n",
    "import torch\r\n",
    "import torch.nn as nn\r\n",
    "from torch.nn import init\r\n",
    "import numpy as np\r\n",
    "import pandas as pd\r\n",
    "from IPython import display\r\n",
    "from collections import OrderedDict\r\n",
    "import sys\r\n",
    "import d2lzh as d2l\r\n",
    "from matplotlib import pyplot as plt\r\n",
    "from mpl_toolkits import mplot3d"
   ],
   "outputs": [],
   "metadata": {}
  },
  {
   "cell_type": "markdown",
   "source": [
    "# 5. 卷积神经网络 CNN"
   ],
   "metadata": {}
  },
  {
   "cell_type": "code",
   "execution_count": 26,
   "source": [
    "def corr2d(X, K):\r\n",
    "    h, w = K.shape\r\n",
    "    Y = torch.zeros((X.shape[0] - h + 1, X.shape[1] - w + 1))\r\n",
    "    for i in range(Y.shape[0]):\r\n",
    "        for j in range(Y.shape[1]):\r\n",
    "            Y[i, j] = (X[i: i + h, j: j + w] * K).sum()\r\n",
    "\r\n",
    "    return Y\r\n",
    "\r\n",
    "X = torch.tensor([[0, 1, 2], [3, 4, 5], [6, 7, 8]])\r\n",
    "K = torch.tensor([[0, 1], [2, 3]])\r\n",
    "corr2d(X, K)"
   ],
   "outputs": [
    {
     "output_type": "execute_result",
     "data": {
      "text/plain": [
       "tensor([[19., 25.],\n",
       "        [37., 43.]])"
      ]
     },
     "metadata": {},
     "execution_count": 26
    }
   ],
   "metadata": {}
  },
  {
   "cell_type": "markdown",
   "source": [
    "### 5.1.2 二维卷积层\r\n",
    "\r\n",
    "二维卷积层将输入和卷积核做互相关运算，并加上一个标量偏差来得到输出。卷积层的模型参数包括了卷积核和标量偏差。在训练模型的时候，通常我们先对卷积核随机初始化，然后不断迭代卷积核和偏差。\r\n",
    "\r\n",
    "下面基于`corr2d`函数来实现一个自定义的二维卷积层。在构造函数`__init__`里我们声明`weight`和`bias`这两个模型参数。前向计算函数`forward`则是直接调用`corr2d`函数再加上偏差。"
   ],
   "metadata": {}
  },
  {
   "cell_type": "code",
   "execution_count": 27,
   "source": [
    "class Conv2D(nn.Module):\r\n",
    "    def __init__(self, kernel_size):\r\n",
    "        super(Conv2D, self).__init__()\r\n",
    "        self.weight = nn.Parameter(torch.randn(kernel_size))\r\n",
    "        self.bias = nn.Parameter(torch.randn(1))\r\n",
    "        \r\n",
    "    def forward(self, x):\r\n",
    "        return corr2d(x, self.weight) + self.bias"
   ],
   "outputs": [],
   "metadata": {}
  },
  {
   "cell_type": "markdown",
   "source": [
    "### 5.1.3 图像中物体边缘检测\r\n",
    "\r\n",
    "下面我们来看一个卷积层的简单应用：检测图像中物体的边缘，即找到像素变化的位置。\r\n",
    "\r\n",
    "首先我们构造一张$6\\times 8$的图像（即高和宽分别为6像素和8像素的图像）。它中间4列为黑（0），其余为白（1）。\r\n",
    "\r\n",
    "然后我们构造一个高和宽分别为1和2的卷积核`K`。当它与输入做互相关运算时，如果横向相邻元素相同，输出为0；否则输出为非0。\r\n",
    "\r\n",
    "由此，我们可以看出，卷积层可通过重复使用卷积核有效地表征局部空间。\r\n"
   ],
   "metadata": {}
  },
  {
   "cell_type": "code",
   "execution_count": 28,
   "source": [
    "X = torch.ones(6, 8)\r\n",
    "X[:, 2:6] = 0\r\n",
    "K = torch.tensor([[1, -1]])\r\n",
    "Y = corr2d(X, K)\r\n",
    "X,Y"
   ],
   "outputs": [
    {
     "output_type": "execute_result",
     "data": {
      "text/plain": [
       "(tensor([[1., 1., 0., 0., 0., 0., 1., 1.],\n",
       "         [1., 1., 0., 0., 0., 0., 1., 1.],\n",
       "         [1., 1., 0., 0., 0., 0., 1., 1.],\n",
       "         [1., 1., 0., 0., 0., 0., 1., 1.],\n",
       "         [1., 1., 0., 0., 0., 0., 1., 1.],\n",
       "         [1., 1., 0., 0., 0., 0., 1., 1.]]),\n",
       " tensor([[ 0.,  1.,  0.,  0.,  0., -1.,  0.],\n",
       "         [ 0.,  1.,  0.,  0.,  0., -1.,  0.],\n",
       "         [ 0.,  1.,  0.,  0.,  0., -1.,  0.],\n",
       "         [ 0.,  1.,  0.,  0.,  0., -1.,  0.],\n",
       "         [ 0.,  1.,  0.,  0.,  0., -1.,  0.],\n",
       "         [ 0.,  1.,  0.,  0.,  0., -1.,  0.]]))"
      ]
     },
     "metadata": {},
     "execution_count": 28
    }
   ],
   "metadata": {}
  },
  {
   "cell_type": "markdown",
   "source": [
    "### 5.1.4 通过数据学习核数组\r\n",
    "\r\n",
    "使用物体边缘检测中的输入数据`X`和输出数据`Y`来学习我们构造的核数组`K`。\r\n",
    "\r\n",
    "首先构造一个卷积层，其卷积核将被初始化成随机数组。接下来在每一次迭代中，我们使用平方误差来比较`Y`和卷积层的输出，然后计算梯度来更新权重。"
   ],
   "metadata": {}
  },
  {
   "cell_type": "code",
   "execution_count": 31,
   "source": [
    "# 构造一个核数组形状是(1, 2)的二维卷积层\r\n",
    "conv2d = Conv2D(kernel_size=(1, 2))\r\n",
    "\r\n",
    "step = 100\r\n",
    "lr = 0.01\r\n",
    "for i in range(step):\r\n",
    "    Y_hat = conv2d(X)\r\n",
    "    l = ((Y_hat - Y) ** 2).sum()\r\n",
    "    l.backward()\r\n",
    "    \r\n",
    "    # 梯度下降\r\n",
    "    conv2d.weight.data -= lr * conv2d.weight.grad\r\n",
    "    conv2d.bias.data -= lr * conv2d.bias.grad\r\n",
    "    \r\n",
    "    # 梯度清0\r\n",
    "    conv2d.weight.grad.fill_(0)\r\n",
    "    conv2d.bias.grad.fill_(0)\r\n",
    "\r\n",
    "    if (i + 1) % 25 == 0:\r\n",
    "        print('Step %d, loss %.10f' % (i + 1, l.item()))\r\n",
    "\r\n",
    "# 训练结束后，看看weight和bias\r\n",
    "print(\"weight: \", conv2d.weight.data)\r\n",
    "print(\"bias: \", conv2d.bias.data)\r\n",
    "\r\n",
    "# 可以看到，学到的卷积核的权重参数与我们之前定义的核数组`K`较接近，而偏置参数接近0。"
   ],
   "outputs": [
    {
     "output_type": "stream",
     "name": "stdout",
     "text": [
      "bias  Parameter containing:\n",
      "tensor([-0.4042], requires_grad=True)\n",
      "Step 25, loss 0.1945903301\n",
      "Step 50, loss 0.0003255384\n",
      "Step 75, loss 0.0000005452\n",
      "Step 100, loss 0.0000000009\n",
      "weight:  tensor([[ 1.0000, -1.0000]])\n",
      "bias:  tensor([-1.4049e-13])\n"
     ]
    }
   ],
   "metadata": {}
  },
  {
   "cell_type": "markdown",
   "source": [
    "### 5.1.5 互相关运算和卷积运算\r\n",
    "\r\n",
    "![](./img/5.1.png)\r\n",
    "\r\n",
    "实际上，卷积运算与互相关运算类似。**为了得到卷积运算的输出，我们只需将核数组左右翻转并上下翻转，再与输入数组做互相关运算**。可见，卷积运算和互相关运算虽然类似，但如果它们使用相同的核数组，对于同一个输入，输出往往并不相同。\r\n",
    "\r\n",
    "那么，你也许会好奇卷积层为何能使用互相关运算替代卷积运算。其实，在深度学习中核数组都是学出来的：卷积层无论使用互相关运算或卷积运算都不影响模型预测时的输出。为了解释这一点，假设卷积层使用互相关运算学出图5.1中的核数组。设其他条件不变，使用卷积运算学出的核数组即图5.1中的核数组按上下、左右翻转。也就是说，图5.1中的输入与学出的已翻转的核数组再做卷积运算时，依然得到图5.1中的输出。为了与大多数深度学习文献一致，如无特别说明，本书中提到的卷积运算均指互相关运算。\r\n",
    "\r\n",
    "\r\n",
    "### 5.1.6 特征图和感受野\r\n",
    "\r\n",
    "二维卷积层输出的二维数组可以看作是输入在空间维度（宽和高）上某一级的表征，也叫特征图（feature map）。影响元素$x$的前向计算的所有可能输入区域（可能大于输入的实际尺寸）叫做$x$的感受野（receptive field）。以图5.1为例，输入中阴影部分的四个元素是输出中阴影部分元素的感受野。我们将图5.1中形状为$2 \\times 2$的输出记为$Y$，并考虑一个更深的卷积神经网络：将$Y$与另一个形状为$2 \\times 2$的核数组做互相关运算，输出单个元素$z$。那么，$z$在$Y$上的感受野包括$Y$的全部四个元素，在输入上的感受野包括其中全部9个元素。可见，我们可以通过更深的卷积神经网络使特征图中单个元素的感受野变得更加广阔，从而捕捉输入上更大尺寸的特征。\r\n",
    "\r\n",
    "我们常使用“元素”一词来描述数组或矩阵中的成员。在神经网络的术语中，这些元素也可称为“单元”。当含义明确时，本书不对这两个术语做严格区分。\r\n",
    "\r\n",
    "\r\n",
    "### 小结\r\n",
    "\r\n",
    "* 二维卷积层的核心计算是二维互相关运算。在最简单的形式下，它对二维输入数据和卷积核做互相关运算然后加上偏差。\r\n",
    "* 我们可以设计卷积核来检测图像中的边缘。\r\n",
    "* 我们可以通过数据来学习卷积核。 \r\n"
   ],
   "metadata": {}
  },
  {
   "cell_type": "markdown",
   "source": [
    "## 5.2 填充和步幅\r\n",
    "\r\n",
    "在上一节的例子里，我们使用高和宽为3的输入与高和宽为2的卷积核得到高和宽为2的输出。一般来说，假设输入形状是$n_h\\times n_w$，卷积核窗口形状是$k_h\\times k_w$，那么输出形状将会是\r\n",
    "\r\n",
    "$$(n_h-k_h+1) \\times (n_w-k_w+1).$$\r\n",
    "\r\n",
    "所以卷积层的输出形状由输入形状和卷积核窗口形状决定。本节我们将介绍卷积层的两个超参数，即填充和步幅。它们可以对给定形状的输入和卷积核改变输出形状。\r\n",
    "\r\n",
    "### 5.2.1 填充\r\n",
    "\r\n",
    "填充（padding）是指在输入高和宽的两侧填充元素（通常是0元素）。图5.2里我们在原输入高和宽的两侧分别添加了值为0的元素，使得输入高和宽从3变成了5，并导致输出高和宽由2增加到4。图5.2中的阴影部分为第一个输出元素及其计算所使用的输入和核数组元素：$0\\times0+0\\times1+0\\times2+0\\times3=0$。\r\n",
    " \r\n",
    "\r\n",
    "![](./img/chapter5/5.2_conv_pad.png)\r\n",
    "\r\n",
    "\r\n",
    "一般来说，如果在高的两侧一共填充$p_h$行，在宽的两侧一共填充$p_w$列，那么输出形状将会是\r\n",
    "\r\n",
    "$$(n_h-k_h+p_h+1)\\times(n_w-k_w+p_w+1),$$\r\n",
    "\r\n",
    "也就是说，输出的高和宽会分别增加$p_h$和$p_w$。\r\n",
    "\r\n",
    "在很多情况下，我们会设置$p_h=k_h-1$和$p_w=k_w-1$来使输入和输出具有相同的高和宽。这样会方便在构造网络时推测每个层的输出形状。假设这里$k_h$是奇数，我们会在高的两侧分别填充$p_h/2$行。如果$k_h$是偶数，一种可能是在输入的顶端一侧填充$\\lceil p_h/2\\rceil$行，而在底端一侧填充$\\lfloor p_h/2\\rfloor$行。在宽的两侧填充同理。\r\n",
    "\r\n",
    "卷积神经网络经常使用奇数高宽的卷积核，如1、3、5和7，所以两端上的填充个数相等。对任意的二维数组`X`，设它的第`i`行第`j`列的元素为`X[i,j]`。\r\n",
    "\r\n",
    "当两端上的填充个数相等，并使输入和输出具有相同的高和宽时，我们就知道输出`Y[i,j]`是由输入以`X[i,j]`为中心的窗口同卷积核进行互相关计算得到的。\r\n",
    "\r\n",
    "下面的例子里我们创建一个高和宽为3的二维卷积层，然后设输入高和宽两侧的填充数分别为1。给定一个高和宽为8的输入，我们发现输出的高和宽也是8。\r\n"
   ],
   "metadata": {}
  },
  {
   "cell_type": "code",
   "execution_count": 35,
   "source": [
    "# 定义⼀个函数来计算卷积层。它对输⼊和输出做相应的升维和降维\r\n",
    "def comp_conv2d(conv2d, X):\r\n",
    "    # (1, 1)代表批量⼤⼩和通道数（“多输⼊通道和多输出通道”⼀节将介绍）均为1\r\n",
    "    X = X.view((1, 1) + X.shape)\r\n",
    "    Y = conv2d(X)\r\n",
    "    return Y.view(Y.shape[2:]) # 排除不关⼼的前两维：批量和通道\r\n",
    "\r\n",
    "\r\n",
    "# 注意这⾥是两侧分别填充1⾏或列，所以在两侧⼀共填充2⾏或列\r\n",
    "conv2d = nn.Conv2d(in_channels=1, out_channels=1, kernel_size=3,padding=1)\r\n",
    "X = torch.rand(8, 8)\r\n",
    "comp_conv2d(conv2d, X).shape"
   ],
   "outputs": [
    {
     "output_type": "execute_result",
     "data": {
      "text/plain": [
       "torch.Size([8, 8])"
      ]
     },
     "metadata": {},
     "execution_count": 35
    }
   ],
   "metadata": {}
  },
  {
   "cell_type": "code",
   "execution_count": 37,
   "source": [
    "# 当卷积核的⾼和宽不同时，我们也可以通过设置⾼和宽上不同的填充数使输出和输⼊具有相同的⾼和宽\r\n",
    "\r\n",
    "conv2d = nn.Conv2d(in_channels=1, out_channels=1, kernel_size=(5, 3), padding=(2, 1))\r\n",
    "comp_conv2d(conv2d, X).shape\r\n",
    "# (8-5+2*2+1) * (8-3+2*1+1)"
   ],
   "outputs": [
    {
     "output_type": "execute_result",
     "data": {
      "text/plain": [
       "torch.Size([8, 8])"
      ]
     },
     "metadata": {},
     "execution_count": 37
    }
   ],
   "metadata": {}
  },
  {
   "cell_type": "markdown",
   "source": [
    "### 5.2.2 步幅\r\n",
    "\r\n",
    " 将每次滑动的行数和列数称为步幅（stride）。\r\n",
    "\r\n",
    "目前我们看到的例子里，在高和宽两个方向上步幅均为1。我们也可以使用更大步幅。图5.3展示了在高上步幅为3、在宽上步幅为2的二维互相关运算。可以看到，输出第一列第二个元素时，卷积窗口向下滑动了3行，而在输出第一行第二个元素时卷积窗口向右滑动了2列。当卷积窗口在输入上再向右滑动2列时，由于输入元素无法填满窗口，无结果输出。图5.3中的阴影部分为输出元素及其计算所使用的输入和核数组元素：$0\\times0+0\\times1+1\\times2+2\\times3=8$、$0\\times0+6\\times1+0\\times2+0\\times3=6$。\r\n",
    "\r\n",
    "![](./img/5.3.png)\r\n",
    "\r\n",
    "一般来说，当高上步幅为$s_h$，宽上步幅为$s_w$时，输出形状为\r\n",
    "\r\n",
    "$$\\lfloor(n_h-k_h+p_h+s_h)/s_h\\rfloor \\times \\lfloor(n_w-k_w+p_w+s_w)/s_w\\rfloor.$$\r\n",
    "\r\n",
    "如果设置$p_h=k_h-1$和$p_w=k_w-1$，那么输出形状将简化为$\\lfloor(n_h+s_h-1)/s_h\\rfloor \\times \\lfloor(n_w+s_w-1)/s_w\\rfloor$。更进一步，如果输入的高和宽能分别被高和宽上的步幅整除，那么输出形状将是$(n_h/s_h) \\times (n_w/s_w)$。\r\n",
    "\r\n",
    "下面我们令高和宽上的步幅均为2，从而使输入的高和宽减半。"
   ],
   "metadata": {}
  },
  {
   "cell_type": "code",
   "execution_count": 39,
   "source": [
    "conv2d = nn.Conv2d(1, 1, kernel_size=(3, 5), padding=(0, 1), stride=(3, 4))\r\n",
    "comp_conv2d(conv2d, X).shape"
   ],
   "outputs": [
    {
     "output_type": "execute_result",
     "data": {
      "text/plain": [
       "torch.Size([2, 2])"
      ]
     },
     "metadata": {},
     "execution_count": 39
    }
   ],
   "metadata": {}
  },
  {
   "cell_type": "markdown",
   "source": [
    "为了表述简洁，当输入的高和宽两侧的填充数分别为$p_h$和$p_w$时，我们称填充为$(p_h, p_w)$。特别地，当$p_h = p_w = p$时，填充为$p$。当在高和宽上的步幅分别为$s_h$和$s_w$时，我们称步幅为$(s_h, s_w)$。特别地，当$s_h = s_w = s$时，步幅为$s$。在默认情况下，填充为0，步幅为1。\r\n",
    "\r\n",
    "\r\n",
    "\r\n",
    "### 小结\r\n",
    "\r\n",
    "* 填充可以增加输出的高和宽。这常用来使输出与输入具有相同的高和宽。\r\n",
    "* 步幅可以减小输出的高和宽，例如输出的高和宽仅为输入的高和宽的$1/n$（$n$为大于1的整数）。"
   ],
   "metadata": {}
  },
  {
   "cell_type": "markdown",
   "source": [
    "## 5.3 多输入通道和多输出通道\r\n",
    "\r\n",
    "前面两节里我们用到的输入和输出都是二维数组，但真实数据的维度经常更高。例如，彩色图像在高和宽2个维度外还有RGB（红、绿、蓝）3个颜色通道。假设彩色图像的高和宽分别是$h$和$w$（像素），那么它可以表示为一个$3\\times h\\times w$的多维数组。我们将大小为3的这一维称为通道（channel）维。本节我们将介绍含多个输入通道或多个输出通道的卷积核。\r\n",
    "\r\n",
    "\r\n",
    "\r\n",
    "### 5.3.1 多输入通道\r\n",
    "\r\n",
    "当输入数据含多个通道时，我们需要构造一个输入通道数与输入数据的通道数相同的卷积核，从而能够与含多通道的输入数据做互相关运算。假设输入数据的通道数为$c_i$，那么卷积核的输入通道数同样为$c_i$。设卷积核窗口形状为$k_h\\times k_w$。当$c_i=1$时，我们知道卷积核只包含一个形状为$k_h\\times k_w$的二维数组。当$c_i > 1$时，我们将会为每个输入通道各分配一个形状为$k_h\\times k_w$的核数组。把这$c_i$个数组在输入通道维上连结，即得到一个形状为$c_i\\times k_h\\times k_w$的卷积核。由于输入和卷积核各有$c_i$个通道，我们可以在各个通道上对输入的二维数组和卷积核的二维核数组做互相关运算，再将这$c_i$个互相关运算的二维输出按通道相加，得到一个二维数组。这就是含多个通道的输入数据与多输入通道的卷积核做二维互相关运算的输出。\r\n",
    "\r\n",
    "图5.4展示了含2个输入通道的二维互相关计算的例子。在每个通道上，二维输入数组与二维核数组做互相关运算，再按通道相加即得到输出。图5.4中阴影部分为第一个输出元素及其计算所使用的输入和核数组元素：$(1\\times1+2\\times2+4\\times3+5\\times4)+(0\\times0+1\\times1+3\\times2+4\\times3)=56$。\r\n",
    "\r\n",
    "![](./img/5.4.png)"
   ],
   "metadata": {}
  },
  {
   "cell_type": "code",
   "execution_count": 52,
   "source": [
    "# 实现含多个输⼊通道的互相关运算\r\n",
    "# 思路：只需要对每个通道做互相关运算，然后通过`add_n`函数来进行累加。\r\n",
    "\r\n",
    "\r\n",
    "def corr2d_multi_in(X, K):\r\n",
    "    # 沿着X和K的第0维（通道维）分别计算再相加\r\n",
    "    res = d2l.corr2d(X[0, :, :], K[0, :, :])\r\n",
    "    for i in range(1, X.shape[0]):\r\n",
    "        res += d2l.corr2d(X[i, :, :], K[i, :, :])\r\n",
    "    return res"
   ],
   "outputs": [],
   "metadata": {}
  },
  {
   "cell_type": "code",
   "execution_count": 53,
   "source": [
    "X = torch.tensor([[[0, 1, 2], [3, 4, 5], [6, 7, 8]],\r\n",
    "              [[1, 2, 3], [4, 5, 6], [7, 8, 9]]])\r\n",
    "K = torch.tensor([[[0, 1], [2, 3]], [[1, 2], [3, 4]]])\r\n",
    "\r\n",
    "corr2d_multi_in(X, K)"
   ],
   "outputs": [
    {
     "output_type": "execute_result",
     "data": {
      "text/plain": [
       "tensor([[ 56.,  72.],\n",
       "        [104., 120.]])"
      ]
     },
     "metadata": {},
     "execution_count": 53
    }
   ],
   "metadata": {}
  },
  {
   "cell_type": "markdown",
   "source": [
    " \r\n",
    "### 5.3.2 多输出通道\r\n",
    "\r\n",
    "当输入通道有多个时，因为我们对各个通道的结果做了累加，所以不论输入通道数是多少，输出通道数总是为1。设卷积核输入通道数和输出通道数分别为$c_i$和$c_o$，高和宽分别为$k_h$和$k_w$。如果希望得到含多个通道的输出，我们可以为每个输出通道分别创建形状为$c_i\\times k_h\\times k_w$的核数组。将它们在输出通道维上连结，卷积核的形状即$c_o\\times c_i\\times k_h\\times k_w$。在做互相关运算时，每个输出通道上的结果由卷积核在该输出通道上的核数组与整个输入数组计算而来。"
   ],
   "metadata": {}
  },
  {
   "cell_type": "code",
   "execution_count": 54,
   "source": [
    "# 实现⼀个互相关运算函数来计算多个通道的输出。\r\n",
    "\r\n",
    "def corr2d_multi_in_out(X, K):\r\n",
    "    # 对K的第0维遍历，每次同输入X做互相关计算。所有结果使用stack函数合并在一起\r\n",
    "    return torch.stack([corr2d_multi_in(X, k) for k in K])"
   ],
   "outputs": [],
   "metadata": {}
  },
  {
   "cell_type": "code",
   "execution_count": 55,
   "source": [
    "# 将核数组`K`同`K+1`（`K`中每个元素加一）和`K+2`连结在一起来构造一个输出通道数为3的卷积核。\r\n",
    "K = torch.stack([K, K + 1, K + 2])\r\n",
    "K.shape # torch.Size([3, 2, 2, 2])\r\n",
    "corr2d_multi_in_out(X, K)"
   ],
   "outputs": [
    {
     "output_type": "execute_result",
     "data": {
      "text/plain": [
       "tensor([[[ 56.,  72.],\n",
       "         [104., 120.]],\n",
       "\n",
       "        [[ 76., 100.],\n",
       "         [148., 172.]],\n",
       "\n",
       "        [[ 96., 128.],\n",
       "         [192., 224.]]])"
      ]
     },
     "metadata": {},
     "execution_count": 55
    }
   ],
   "metadata": {}
  },
  {
   "cell_type": "markdown",
   "source": [
    "### 5.3.3 $1\\times 1$卷积层\r\n",
    "\r\n",
    "最后我们讨论卷积窗口形状为$1\\times 1$（$k_h=k_w=1$）的多通道卷积层。我们通常称之为$1\\times 1$卷积层，并将其中的卷积运算称为$1\\times 1$卷积。因为使用了最小窗口，$1\\times 1$卷积失去了卷积层可以识别高和宽维度上相邻元素构成的模式的功能。实际上，$1\\times 1$卷积的主要计算发生在通道维上。图5.5展示了使用输入通道数为3、输出通道数为2的$1\\times 1$卷积核的互相关计算。值得注意的是，输入和输出具有相同的高和宽。输出中的每个元素来自输入中在高和宽上相同位置的元素在不同通道之间的按权重累加。假设我们将通道维当作特征维，将高和宽维度上的元素当成数据样本，**那么$1\\times 1$卷积层的作用与全连接层等价**。\r\n",
    "\r\n",
    "![](./img/5.5.png)\r\n"
   ],
   "metadata": {}
  },
  {
   "cell_type": "code",
   "execution_count": 56,
   "source": [
    "# 使用全连接层中的矩阵乘法来实现1 X 1 卷积\r\n",
    "#这里需要在矩阵乘法运算前后对数据形状做一些调整\r\n",
    "\r\n",
    "def corr2d_multi_in_out_1x1(X, K):\r\n",
    "    c_i, h, w = X.shape\r\n",
    "    c_o = K.shape[0]\r\n",
    "    X = X.view(c_i, h * w)\r\n",
    "    K = K.view(c_o, c_i)\r\n",
    "    Y = torch.mm(K, X)  # 全连接层的矩阵乘法\r\n",
    "    return Y.view(c_o, h, w)"
   ],
   "outputs": [],
   "metadata": {}
  },
  {
   "cell_type": "markdown",
   "source": [
    "经验证，做$1\\times 1$卷积时，以上函数与之前实现的互相关运算函数`corr2d_multi_in_out`等价。"
   ],
   "metadata": {}
  },
  {
   "cell_type": "code",
   "execution_count": 63,
   "source": [
    "X = torch.rand(3, 3, 3)\r\n",
    "K = torch.rand(2, 3, 1, 1)\r\n",
    "\r\n",
    "Y1 = corr2d_multi_in_out_1x1(X, K)\r\n",
    "Y2 = corr2d_multi_in_out(X, K)\r\n",
    "\r\n",
    "(Y1 - Y2).norm().item() < 1e-6 # true\r\n",
    "(Y1 == Y2)"
   ],
   "outputs": [
    {
     "output_type": "execute_result",
     "data": {
      "text/plain": [
       "tensor([[[True, True, True],\n",
       "         [True, True, True],\n",
       "         [True, True, True]],\n",
       "\n",
       "        [[True, True, True],\n",
       "         [True, True, True],\n",
       "         [True, True, True]]])"
      ]
     },
     "metadata": {},
     "execution_count": 63
    }
   ],
   "metadata": {}
  },
  {
   "cell_type": "markdown",
   "source": [
    "在之后的模型里我们将会看到$1\\times 1$卷积层被当作保持高和宽维度形状不变的全连接层使用。于是，我们可以通过调整网络层之间的通道数来控制模型复杂度。\r\n",
    "\r\n",
    "\r\n",
    "## 小结\r\n",
    "\r\n",
    "* 使用多通道可以拓展卷积层的模型参数。\r\n",
    "* 假设将通道维当作特征维，将高和宽维度上的元素当成数据样本，那么$1\\times 1$卷积层的作用与全连接层等价。\r\n",
    "* $1\\times 1$卷积层通常用来调整网络层之间的通道数，并控制模型复杂度。"
   ],
   "metadata": {}
  },
  {
   "cell_type": "markdown",
   "source": [],
   "metadata": {}
  },
  {
   "cell_type": "markdown",
   "source": [],
   "metadata": {}
  }
 ],
 "metadata": {
  "orig_nbformat": 4,
  "language_info": {
   "name": "python",
   "version": "3.8.10",
   "mimetype": "text/x-python",
   "codemirror_mode": {
    "name": "ipython",
    "version": 3
   },
   "pygments_lexer": "ipython3",
   "nbconvert_exporter": "python",
   "file_extension": ".py"
  },
  "kernelspec": {
   "name": "python3",
   "display_name": "Python 3.8.10 64-bit ('base': conda)"
  },
  "interpreter": {
   "hash": "07efdcd4b820c98a756949507a4d29d7862823915ec7477944641bea022f4f62"
  }
 },
 "nbformat": 4,
 "nbformat_minor": 2
}