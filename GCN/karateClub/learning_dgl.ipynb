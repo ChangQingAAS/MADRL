{
 "cells": [
  {
   "cell_type": "code",
   "execution_count": 2,
   "source": [
    "import torch as th\r\n",
    "import dgl"
   ],
   "outputs": [
    {
     "output_type": "stream",
     "name": "stderr",
     "text": [
      "Using backend: pytorch\n"
     ]
    }
   ],
   "metadata": {}
  },
  {
   "cell_type": "markdown",
   "source": [
    "基本的图的类。\r\n",
    "\r\n",
    "图的类存储节点，边及其特征。\r\n",
    "\r\n",
    "class dgl.DGLGraph(graph_data=None, node_frame=None, edge_frame=None, multigraph=None, readonly=False,sort_csr=False, batch_num_nodes=None, batch_num_edges=None, parent=None)\r\n",
    "\r\n",
    "DGL图始终是有方向的。可以使用两个双向边来表示无向图。\r\n",
    "\r\n",
    "节点由从零开始的连续整数标识。\r\n",
    "当给图添加边时，可以通过两个端点（u，v）或分配的整数id来指定边。边的ID是顺序自动分配，即，添加的第一个边的ID为0，第二个边的ID为1，依此类推。\r\n",
    "\r\n",
    "节点和边的特征存储方式是：以“特征名”为键和以“特征数据”为值的字典(以张量表示)。\r\n",
    "\r\n",
    "DGL图形接受多种格式的图形数据：\r\n",
    "    NetworkX图，\r\n",
    "    scipy 矩阵\r\n",
    "    DGLGraph。"
   ],
   "metadata": {
    "scrolled": true
   }
  },
  {
   "cell_type": "code",
   "execution_count": 4,
   "source": [
    "# 添加10个节点\r\n",
    "# G.add_nodes(10)"
   ],
   "outputs": [],
   "metadata": {}
  },
  {
   "cell_type": "code",
   "execution_count": 5,
   "source": [
    "# 一次添加一条边\r\n",
    "# G.add_edge(0, 1)\r\n",
    "# 或多个边\r\n",
    "# G.add_edges([1, 2, 3], [3, 4, 5])  # three edges: 1->3, 2->4, 3->5\r\n",
    "# 或从同一节点开始的多个边，\r\n",
    "# G.add_edges(4, [7, 8, 9])  # three edges: 4->7, 4->8, 4->9\r\n",
    "# 或指向同一节点的多个边\r\n",
    "# G.add_edges([2, 6, 8], 5)  # three edges: 2->5, 6->5, 8->5\r\n",
    "# 或使用张量类型的多个边\r\n",
    "# G.add_edges(th.tensor([3, 4, 5]), 1)  # three edges: 3->1, 4->1, 5->1"
   ],
   "outputs": [],
   "metadata": {}
  },
  {
   "cell_type": "markdown",
   "source": [
    "### 注意：DGLGraph不支持删除节点和边。"
   ],
   "metadata": {}
  },
  {
   "cell_type": "code",
   "execution_count": 6,
   "source": [
    "import networkx as nx\r\n",
    "G = nx.karate_club_graph()"
   ],
   "outputs": [],
   "metadata": {}
  },
  {
   "cell_type": "code",
   "execution_count": 7,
   "source": [
    "G.number_of_edges()"
   ],
   "outputs": [
    {
     "output_type": "execute_result",
     "data": {
      "text/plain": [
       "78"
      ]
     },
     "metadata": {},
     "execution_count": 7
    }
   ],
   "metadata": {}
  }
 ],
 "metadata": {
  "kernelspec": {
   "name": "python3",
   "display_name": "Python 3.8.10 64-bit ('base': conda)"
  },
  "language_info": {
   "codemirror_mode": {
    "name": "ipython",
    "version": 3
   },
   "file_extension": ".py",
   "mimetype": "text/x-python",
   "name": "python",
   "nbconvert_exporter": "python",
   "pygments_lexer": "ipython3",
   "version": "3.8.10"
  },
  "interpreter": {
   "hash": "07efdcd4b820c98a756949507a4d29d7862823915ec7477944641bea022f4f62"
  }
 },
 "nbformat": 4,
 "nbformat_minor": 5
}