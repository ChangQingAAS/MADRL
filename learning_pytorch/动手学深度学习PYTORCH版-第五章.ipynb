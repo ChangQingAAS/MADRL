{
 "cells": [
  {
   "cell_type": "code",
   "execution_count": 1,
   "source": [
    "%matplotlib inline\r\n",
    "import random\r\n",
    "import time \r\n",
    "import torch\r\n",
    "import torch.nn as nn\r\n",
    "from torch.nn import init\r\n",
    "import numpy as np\r\n",
    "import pandas as pd\r\n",
    "from IPython import display\r\n",
    "from collections import OrderedDict\r\n",
    "import sys\r\n",
    "import d2lzh as d2l\r\n",
    "from matplotlib import pyplot as plt\r\n",
    "from mpl_toolkits import mplot3d"
   ],
   "outputs": [],
   "metadata": {}
  },
  {
   "cell_type": "markdown",
   "source": [
    "# 5. 卷积神经网络 CNN"
   ],
   "metadata": {}
  },
  {
   "cell_type": "code",
   "execution_count": null,
   "source": [],
   "outputs": [],
   "metadata": {}
  }
 ],
 "metadata": {
  "orig_nbformat": 4,
  "language_info": {
   "name": "python",
   "version": "3.8.10",
   "mimetype": "text/x-python",
   "codemirror_mode": {
    "name": "ipython",
    "version": 3
   },
   "pygments_lexer": "ipython3",
   "nbconvert_exporter": "python",
   "file_extension": ".py"
  },
  "kernelspec": {
   "name": "python3",
   "display_name": "Python 3.8.10 64-bit ('base': conda)"
  },
  "interpreter": {
   "hash": "07efdcd4b820c98a756949507a4d29d7862823915ec7477944641bea022f4f62"
  }
 },
 "nbformat": 4,
 "nbformat_minor": 2
}