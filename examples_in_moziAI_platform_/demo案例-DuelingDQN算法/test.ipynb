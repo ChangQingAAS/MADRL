{
 "cells": [
  {
   "cell_type": "code",
   "execution_count": 2,
   "source": [
    "import torch\r\n",
    "import torch\r\n",
    "import torch.nn as nn\r\n",
    "import torch.nn.functional as F\r\n",
    "import numpy as np\r\n",
    "import os\r\n",
    "import torch.optim as optim"
   ],
   "outputs": [],
   "metadata": {}
  },
  {
   "cell_type": "code",
   "execution_count": 3,
   "source": [
    "class DuelingDeepQNetwork(nn.Module):\r\n",
    "    def __init__(self, lr, n_actions, name, input_dims, chkpt_dir):\r\n",
    "        super(DuelingDeepQNetwork, self).__init__()\r\n",
    "\r\n",
    "        self.conv1 = nn.Conv2d(3, 32, 8, stride=4)\r\n",
    "        self.conv2 = nn.Conv2d(32, 64, 4, stride=2)\r\n",
    "        self.conv3 = nn.Conv2d(64, 64, 3, stride=1)\r\n",
    "\r\n",
    "        # fc_input_dims = self.calculate_conv_output_dims(input_dims)\r\n",
    "        fc_input_dims = input_dims\r\n",
    "\r\n",
    "        self.fc1 = nn.Linear(fc_input_dims, 1024)\r\n",
    "        self.fc2 = nn.Linear(1024, 512)\r\n",
    "        self.V = nn.Linear(512, 1)\r\n",
    "        self.A = nn.Linear(512, n_actions)\r\n",
    "\r\n",
    "        self.optimizer = optim.RMSprop(self.parameters(), lr=lr)\r\n",
    "        self.loss = nn.MSELoss()\r\n",
    "        self.device = torch.device('cuda:0' if torch.cuda.is_available() else 'cpu')\r\n",
    "        self.to(self.device)\r\n",
    "\r\n",
    "\r\n",
    "    def calculate_conv_output_dims(self, input_dims):\r\n",
    "        state = torch.zeros(1, input_dims)\r\n",
    "        dims = self.conv1(state)\r\n",
    "        dims = self.conv2(dims)\r\n",
    "        dims = self.conv3(dims)\r\n",
    "        return int(np.prod(dims.size()))\r\n",
    "\r\n",
    "    def forward(self, state):\r\n",
    "        # # 这一行是额外添加的，等到代码跑起来再修改\r\n",
    "        # state = torch.ones(3, 3, 32,32)\r\n",
    "\r\n",
    "        # conv1 = F.relu(self.conv1(state))\r\n",
    "        # conv2 = F.relu(self.conv2(conv1))\r\n",
    "        # conv3 = F.relu(self.conv3(conv2))\r\n",
    "        # conv_state = conv3.view(conv3.size()[0], -1)\r\n",
    "        # flat1 = F.relu(self.fc1(conv_state))\r\n",
    "        # flat2 = F.relu(self.fc2(flat1))\r\n",
    "\r\n",
    "        # V = self.V(flat2)\r\n",
    "        # A = self.A(flat2)\r\n",
    "\r\n",
    "        # return V, A\r\n",
    "        V = torch.rand(3,3).type(torch.FloatTensor)\r\n",
    "        A = torch.rand(3,3).type(torch.FloatTensor)\r\n",
    "        V.requires_grad_()\r\n",
    "        A.requires_grad_()\r\n",
    "        print(\"V is \",V)\r\n",
    "\r\n",
    "        return V,A\r\n",
    "\r\n",
    "    def save_checkpoint(self):\r\n",
    "        print('... saving checkpoint ...')\r\n",
    "        T.save(self.state_dict(), self.checkpoint_file)\r\n",
    "\r\n",
    "    def load_checkpoint(self):\r\n",
    "        print('... loading checkpoint ...')\r\n",
    "        self.load_state_dict(T.load(self.checkpoint_file))"
   ],
   "outputs": [],
   "metadata": {}
  },
  {
   "cell_type": "code",
   "execution_count": 10,
   "source": [
    "x = torch.randn(10, 16, 30, 32, 34)\r\n",
    "# batch, channel , height , width\r\n",
    "class Net_1D(nn.Module):\r\n",
    "    def __init__(self):\r\n",
    "        super(Net_1D, self).__init__()\r\n",
    "        self.layers = nn.Sequential(\r\n",
    "            nn.Conv1d(in_channels=16, out_channels=16, kernel_size=(3, 2, 2), stride=(2, 2, 1), padding=[2,2,2]),\r\n",
    "            # nn.ReLU()\r\n",
    "        )\r\n",
    "    def forward(self, x):\r\n",
    "        output = self.layers(x)\r\n",
    "        log_probs = F.log_softmax(output, dim=1)\r\n",
    "        return  log_probs\r\n",
    "\r\n",
    "n = Net_1D()  # in_channel,out_channel,kennel,\r\n",
    "print(n)\r\n",
    "y = n(x)\r\n",
    "print(y.shape)"
   ],
   "outputs": [
    {
     "output_type": "stream",
     "name": "stdout",
     "text": [
      "Net_1D(\n",
      "  (layers): Sequential(\n",
      "    (0): Conv1d(16, 16, kernel_size=(3, 2, 2), stride=(2, 2, 1), padding=[2, 2, 2])\n",
      "  )\n",
      ")\n",
      "torch.Size([10, 16, 16, 18, 37])\n"
     ]
    }
   ],
   "metadata": {}
  },
  {
   "cell_type": "code",
   "execution_count": null,
   "source": [],
   "outputs": [],
   "metadata": {}
  }
 ],
 "metadata": {
  "orig_nbformat": 4,
  "language_info": {
   "name": "python",
   "version": "3.8.10",
   "mimetype": "text/x-python",
   "codemirror_mode": {
    "name": "ipython",
    "version": 3
   },
   "pygments_lexer": "ipython3",
   "nbconvert_exporter": "python",
   "file_extension": ".py"
  },
  "kernelspec": {
   "name": "python3",
   "display_name": "Python 3.8.10 64-bit ('base': conda)"
  },
  "interpreter": {
   "hash": "07efdcd4b820c98a756949507a4d29d7862823915ec7477944641bea022f4f62"
  }
 },
 "nbformat": 4,
 "nbformat_minor": 2
}