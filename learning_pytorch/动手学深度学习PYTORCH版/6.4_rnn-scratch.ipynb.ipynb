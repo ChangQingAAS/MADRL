{
 "cells": [
  {
   "cell_type": "markdown",
   "source": [
    "# 6.4 循环神经网络的从零开始实现"
   ],
   "metadata": {}
  },
  {
   "cell_type": "code",
   "execution_count": 2,
   "source": [
    "import time\r\n",
    "import math\r\n",
    "import numpy as np\r\n",
    "import torch\r\n",
    "from torch import nn, optim\r\n",
    "import torch.nn.functional as F\r\n",
    "\r\n",
    "import sys\r\n",
    "sys.path.append(\"..\") \r\n",
    "import d2lzh as d2l\r\n",
    "device = torch.device('cuda' if torch.cuda.is_available() else 'cpu')\r\n",
    "\r\n",
    "print(torch.__version__)\r\n",
    "print(device)"
   ],
   "outputs": [
    {
     "output_type": "stream",
     "name": "stdout",
     "text": [
      "1.8.1+cpu\n",
      "cpu\n"
     ]
    }
   ],
   "metadata": {}
  },
  {
   "cell_type": "code",
   "execution_count": 3,
   "source": [
    "(corpus_indices, char_to_idx, idx_to_char, vocab_size) = d2l.load_data_jay_lyrics()"
   ],
   "outputs": [],
   "metadata": {
    "collapsed": true
   }
  },
  {
   "cell_type": "markdown",
   "source": [
    "## 6.4.1 one-hot向量"
   ],
   "metadata": {}
  },
  {
   "cell_type": "code",
   "execution_count": 4,
   "source": [
    "def one_hot(x, n_class, dtype=torch.float32): \r\n",
    "    # X shape: (batch), output shape: (batch, n_class)\r\n",
    "    x = x.long()\r\n",
    "    res = torch.zeros(x.shape[0], n_class, dtype=dtype, device=x.device)\r\n",
    "    res.scatter_(1, x.view(-1, 1), 1)\r\n",
    "    return res\r\n",
    "    \r\n",
    "x = torch.tensor([0, 2])\r\n",
    "one_hot(x, vocab_size)"
   ],
   "outputs": [
    {
     "output_type": "execute_result",
     "data": {
      "text/plain": [
       "tensor([[1., 0., 0.,  ..., 0., 0., 0.],\n",
       "        [0., 0., 1.,  ..., 0., 0., 0.]])"
      ]
     },
     "metadata": {},
     "execution_count": 4
    }
   ],
   "metadata": {}
  },
  {
   "cell_type": "code",
   "execution_count": 5,
   "source": [
    "# 本函数已保存在d2lzh_pytorch包中方便以后使用\r\n",
    "def to_onehot(X, n_class):  \r\n",
    "    # X shape: (batch, seq_len), output: seq_len elements of (batch, n_class)\r\n",
    "    return [one_hot(X[:, i], n_class) for i in range(X.shape[1])]\r\n",
    "\r\n",
    "X = torch.arange(10).view(2, 5)\r\n",
    "inputs = to_onehot(X, vocab_size)\r\n",
    "print(len(inputs), inputs[0].shape)"
   ],
   "outputs": [
    {
     "output_type": "stream",
     "name": "stdout",
     "text": [
      "5 torch.Size([2, 1027])\n"
     ]
    }
   ],
   "metadata": {}
  },
  {
   "cell_type": "markdown",
   "source": [
    "## 6.4.2 初始化模型参数"
   ],
   "metadata": {}
  },
  {
   "cell_type": "code",
   "execution_count": 6,
   "source": [
    "num_inputs, num_hiddens, num_outputs = vocab_size, 256, vocab_size\r\n",
    "print('will use', device)\r\n",
    "\r\n",
    "def get_params():\r\n",
    "    def _one(shape):\r\n",
    "        ts = torch.tensor(np.random.normal(0, 0.01, size=shape), device=device, dtype=torch.float32)\r\n",
    "        return torch.nn.Parameter(ts, requires_grad=True)\r\n",
    "\r\n",
    "    # 隐藏层参数\r\n",
    "    W_xh = _one((num_inputs, num_hiddens))\r\n",
    "    W_hh = _one((num_hiddens, num_hiddens))\r\n",
    "    b_h = torch.nn.Parameter(torch.zeros(num_hiddens, device=device, requires_grad=True))\r\n",
    "    # 输出层参数\r\n",
    "    W_hq = _one((num_hiddens, num_outputs))\r\n",
    "    b_q = torch.nn.Parameter(torch.zeros(num_outputs, device=device, requires_grad=True))\r\n",
    "    return nn.ParameterList([W_xh, W_hh, b_h, W_hq, b_q])"
   ],
   "outputs": [
    {
     "output_type": "stream",
     "name": "stdout",
     "text": [
      "will use cpu\n"
     ]
    }
   ],
   "metadata": {}
  },
  {
   "cell_type": "markdown",
   "source": [
    "\r\n",
    "\r\n",
    "## 6.4.3 定义模型"
   ],
   "metadata": {}
  },
  {
   "cell_type": "code",
   "execution_count": 7,
   "source": [
    "def init_rnn_state(batch_size, num_hiddens, device):\r\n",
    "    return (torch.zeros((batch_size, num_hiddens), device=device), )"
   ],
   "outputs": [],
   "metadata": {
    "collapsed": true
   }
  },
  {
   "cell_type": "code",
   "execution_count": 8,
   "source": [
    "def rnn(inputs, state, params):\r\n",
    "    # inputs和outputs皆为num_steps个形状为(batch_size, vocab_size)的矩阵\r\n",
    "    W_xh, W_hh, b_h, W_hq, b_q = params\r\n",
    "    H, = state\r\n",
    "    outputs = []\r\n",
    "    for X in inputs:\r\n",
    "        H = torch.tanh(torch.matmul(X, W_xh) + torch.matmul(H, W_hh) + b_h)\r\n",
    "        Y = torch.matmul(H, W_hq) + b_q\r\n",
    "        outputs.append(Y)\r\n",
    "    return outputs, (H,)"
   ],
   "outputs": [],
   "metadata": {
    "collapsed": true
   }
  },
  {
   "cell_type": "code",
   "execution_count": 9,
   "source": [
    "state = init_rnn_state(X.shape[0], num_hiddens, device)\r\n",
    "inputs = to_onehot(X.to(device), vocab_size)\r\n",
    "params = get_params()\r\n",
    "outputs, state_new = rnn(inputs, state, params)\r\n",
    "print(len(outputs), outputs[0].shape, state_new[0].shape)"
   ],
   "outputs": [
    {
     "output_type": "stream",
     "name": "stdout",
     "text": [
      "5 torch.Size([2, 1027]) torch.Size([2, 256])\n"
     ]
    }
   ],
   "metadata": {}
  },
  {
   "cell_type": "markdown",
   "source": [
    "## 6.4.4 定义预测函数"
   ],
   "metadata": {}
  },
  {
   "cell_type": "code",
   "execution_count": 10,
   "source": [
    "# 本函数已保存在d2lzh_pytorch包中方便以后使用\r\n",
    "def predict_rnn(prefix, num_chars, rnn, params, init_rnn_state,\r\n",
    "                num_hiddens, vocab_size, device, idx_to_char, char_to_idx):\r\n",
    "    state = init_rnn_state(1, num_hiddens, device)\r\n",
    "    output = [char_to_idx[prefix[0]]]\r\n",
    "    for t in range(num_chars + len(prefix) - 1):\r\n",
    "        # 将上一时间步的输出作为当前时间步的输入\r\n",
    "        X = to_onehot(torch.tensor([[output[-1]]], device=device), vocab_size)\r\n",
    "        # 计算输出和更新隐藏状态\r\n",
    "        (Y, state) = rnn(X, state, params)\r\n",
    "        # 下一个时间步的输入是prefix里的字符或者当前的最佳预测字符\r\n",
    "        if t < len(prefix) - 1:\r\n",
    "            output.append(char_to_idx[prefix[t + 1]])\r\n",
    "        else:\r\n",
    "            output.append(int(Y[0].argmax(dim=1).item()))\r\n",
    "    return ''.join([idx_to_char[i] for i in output])"
   ],
   "outputs": [],
   "metadata": {
    "collapsed": true
   }
  },
  {
   "cell_type": "code",
   "execution_count": 11,
   "source": [
    "predict_rnn('分开', 10, rnn, params, init_rnn_state, num_hiddens, vocab_size,\r\n",
    "            device, idx_to_char, char_to_idx)"
   ],
   "outputs": [
    {
     "output_type": "execute_result",
     "data": {
      "text/plain": [
       "'分开符市秀方胸宁目J儿危'"
      ]
     },
     "metadata": {},
     "execution_count": 11
    }
   ],
   "metadata": {}
  },
  {
   "cell_type": "markdown",
   "source": [
    "## 6.4.5 裁剪梯度"
   ],
   "metadata": {}
  },
  {
   "cell_type": "code",
   "execution_count": 12,
   "source": [
    "# 本函数已保存在d2lzh_pytorch包中方便以后使用\r\n",
    "def grad_clipping(params, theta, device):\r\n",
    "    norm = torch.tensor([0.0], device=device)\r\n",
    "    for param in params:\r\n",
    "        norm += (param.grad.data ** 2).sum()\r\n",
    "    norm = norm.sqrt().item()\r\n",
    "    if norm > theta:\r\n",
    "        for param in params:\r\n",
    "            param.grad.data *= (theta / norm)"
   ],
   "outputs": [],
   "metadata": {
    "collapsed": true
   }
  },
  {
   "cell_type": "markdown",
   "source": [
    "## 6.4.6 困惑度\n",
    "## 6.4.7 定义模型训练函数"
   ],
   "metadata": {}
  },
  {
   "cell_type": "code",
   "execution_count": 13,
   "source": [
    "# 本函数已保存在d2lzh_pytorch包中方便以后使用\r\n",
    "def train_and_predict_rnn(rnn, get_params, init_rnn_state, num_hiddens,\r\n",
    "                          vocab_size, device, corpus_indices, idx_to_char,\r\n",
    "                          char_to_idx, is_random_iter, num_epochs, num_steps,\r\n",
    "                          lr, clipping_theta, batch_size, pred_period,\r\n",
    "                          pred_len, prefixes):\r\n",
    "    if is_random_iter:\r\n",
    "        data_iter_fn = d2l.data_iter_random\r\n",
    "    else:\r\n",
    "        data_iter_fn = d2l.data_iter_consecutive\r\n",
    "    params = get_params()\r\n",
    "    loss = nn.CrossEntropyLoss()\r\n",
    "\r\n",
    "    for epoch in range(num_epochs):\r\n",
    "        if not is_random_iter:  # 如使用相邻采样，在epoch开始时初始化隐藏状态\r\n",
    "            state = init_rnn_state(batch_size, num_hiddens, device)\r\n",
    "        l_sum, n, start = 0.0, 0, time.time()\r\n",
    "        data_iter = data_iter_fn(corpus_indices, batch_size, num_steps, device)\r\n",
    "        for X, Y in data_iter:\r\n",
    "            if is_random_iter:  # 如使用随机采样，在每个小批量更新前初始化隐藏状态\r\n",
    "                state = init_rnn_state(batch_size, num_hiddens, device)\r\n",
    "            else:  # 否则需要使用detach函数从计算图分离隐藏状态\r\n",
    "                for s in state:\r\n",
    "                    s.detach_()\r\n",
    "            \r\n",
    "            inputs = to_onehot(X, vocab_size)\r\n",
    "            # outputs有num_steps个形状为(batch_size, vocab_size)的矩阵\r\n",
    "            (outputs, state) = rnn(inputs, state, params)\r\n",
    "            # 拼接之后形状为(num_steps * batch_size, vocab_size)\r\n",
    "            outputs = torch.cat(outputs, dim=0)\r\n",
    "            # Y的形状是(batch_size, num_steps)，转置后再变成长度为\r\n",
    "            # batch * num_steps 的向量，这样跟输出的行一一对应\r\n",
    "            y = torch.transpose(Y, 0, 1).contiguous().view(-1)\r\n",
    "            # 使用交叉熵损失计算平均分类误差\r\n",
    "            l = loss(outputs, y.long())\r\n",
    "            \r\n",
    "            # 梯度清0\r\n",
    "            if params[0].grad is not None:\r\n",
    "                for param in params:\r\n",
    "                    param.grad.data.zero_()\r\n",
    "            l.backward()\r\n",
    "            grad_clipping(params, clipping_theta, device)  # 裁剪梯度\r\n",
    "            d2l.sgd(params, lr, 1)  # 因为误差已经取过均值，梯度不用再做平均\r\n",
    "            l_sum += l.item() * y.shape[0]\r\n",
    "            n += y.shape[0]\r\n",
    "\r\n",
    "        if (epoch + 1) % pred_period == 0:\r\n",
    "            print('epoch %d, perplexity %f, time %.2f sec' % (\r\n",
    "                epoch + 1, math.exp(l_sum / n), time.time() - start))\r\n",
    "            for prefix in prefixes:\r\n",
    "                print(' -', predict_rnn(prefix, pred_len, rnn, params, init_rnn_state,\r\n",
    "                    num_hiddens, vocab_size, device, idx_to_char, char_to_idx))"
   ],
   "outputs": [],
   "metadata": {
    "collapsed": true
   }
  },
  {
   "cell_type": "markdown",
   "source": [
    "## 6.4.8 训练模型并创作歌词"
   ],
   "metadata": {}
  },
  {
   "cell_type": "code",
   "execution_count": 14,
   "source": [
    "num_epochs, num_steps, batch_size, lr, clipping_theta = 250, 35, 32, 1e2, 1e-2\r\n",
    "pred_period, pred_len, prefixes = 50, 50, ['分开', '不分开']"
   ],
   "outputs": [],
   "metadata": {
    "collapsed": true
   }
  },
  {
   "cell_type": "code",
   "execution_count": 15,
   "source": [
    "train_and_predict_rnn(rnn, get_params, init_rnn_state, num_hiddens,\r\n",
    "                      vocab_size, device, corpus_indices, idx_to_char,\r\n",
    "                      char_to_idx, True, num_epochs, num_steps, lr,\r\n",
    "                      clipping_theta, batch_size, pred_period, pred_len,\r\n",
    "                      prefixes)"
   ],
   "outputs": [],
   "metadata": {}
  },
  {
   "cell_type": "code",
   "execution_count": 15,
   "source": [
    "train_and_predict_rnn(rnn, get_params, init_rnn_state, num_hiddens,\r\n",
    "                      vocab_size, device, corpus_indices, idx_to_char,\r\n",
    "                      char_to_idx, False, num_epochs, num_steps, lr,\r\n",
    "                      clipping_theta, batch_size, pred_period, pred_len,\r\n",
    "                      prefixes)"
   ],
   "outputs": [
    {
     "output_type": "stream",
     "name": "stdout",
     "text": [
      "epoch 50, perplexity 59.514416, time 0.11 sec\n",
      " - 分开 我想要这 我想了空 我想了空 我想了空 我想了空 我想了空 我想了空 我想了空 我想了空 我想了空\n",
      " - 不分开 我不要这 全使了双 我想了这 我想了空 我想了空 我想了空 我想了空 我想了空 我想了空 我想了空\n",
      "epoch 100, perplexity 6.801417, time 0.11 sec\n",
      " - 分开 我说的这样笑 想你都 不着我 我想就这样牵 你你的回不笑多难的  它在云实 有一条事 全你了空  \n",
      " - 不分开觉 你已经离开我 不知不觉 我跟好这节活 我该好好生活 不知不觉 你跟了离开我 不知不觉 我跟好这节\n",
      "epoch 150, perplexity 2.063730, time 0.16 sec\n",
      " - 分开 我有到这样牵着你的手不放开 爱可不可以简简单单没有伤  古有你烦 我有多烦恼向 你知带悄 回我的外\n",
      " - 不分开觉 你已经很个我 不知不觉 我跟了这节奏 后知后觉 又过了一个秋 后哼哈兮 快使用双截棍 哼哼哈兮 \n",
      "epoch 200, perplexity 1.300031, time 0.11 sec\n",
      " - 分开 我想要这样牵着你的手不放开 爱能不能够永远单甜没有伤害 你 靠着我的肩膀 你 在我胸口睡著 像这样\n",
      " - 不分开觉 你已经离开我 不知不觉 我跟了这节奏 后知后觉 又过了一个秋 后知后觉 我该好好生活 我该好好生\n",
      "epoch 250, perplexity 1.164455, time 0.11 sec\n",
      " - 分开 我有一这样布 对你依依不舍 连隔壁邻居都猜到我现在的感受 河边的风 在吹着头发飘动 牵着你的手 一\n",
      " - 不分开觉 你已经离开我 不知不觉 我跟了这节奏 后知后觉 又过了一个秋 后知后觉 我该好好生活 我该好好生\n"
     ]
    }
   ],
   "metadata": {}
  },
  {
   "cell_type": "code",
   "execution_count": null,
   "source": [],
   "outputs": [],
   "metadata": {
    "collapsed": true
   }
  }
 ],
 "metadata": {
  "kernelspec": {
   "name": "python3",
   "display_name": "Python 3.8.10 64-bit ('base': conda)"
  },
  "language_info": {
   "codemirror_mode": {
    "name": "ipython",
    "version": 3
   },
   "file_extension": ".py",
   "mimetype": "text/x-python",
   "name": "python",
   "nbconvert_exporter": "python",
   "pygments_lexer": "ipython3",
   "version": "3.8.10"
  },
  "interpreter": {
   "hash": "07efdcd4b820c98a756949507a4d29d7862823915ec7477944641bea022f4f62"
  }
 },
 "nbformat": 4,
 "nbformat_minor": 2
}